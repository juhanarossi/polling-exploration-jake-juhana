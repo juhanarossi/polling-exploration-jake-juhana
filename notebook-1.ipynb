{
 "cells": [
  {
   "cell_type": "markdown",
   "metadata": {},
   "source": [
    "# Python and R"
   ]
  },
  {
   "cell_type": "code",
   "execution_count": 1,
   "metadata": {},
   "outputs": [
    {
     "name": "stderr",
     "output_type": "stream",
     "text": [
      "c:\\Users\\Juhana\\scoop\\apps\\pyenv\\current\\pyenv-win\\versions\\3.11.0rc2\\Lib\\site-packages\\rpy2\\robjects\\packages.py:367: UserWarning: The symbol 'quartz' is not in this R namespace/package.\n",
      "  warnings.warn(\n"
     ]
    }
   ],
   "source": [
    "%load_ext rpy2.ipython\n",
    "%load_ext autoreload\n",
    "%autoreload 2\n",
    "\n",
    "%matplotlib inline  \n",
    "from matplotlib import rcParams\n",
    "rcParams['figure.figsize'] = (16, 100)\n",
    "\n",
    "import warnings\n",
    "from rpy2.rinterface import RRuntimeWarning\n",
    "warnings.filterwarnings(\"ignore\") # Ignore all warnings\n",
    "# warnings.filterwarnings(\"ignore\", category=RRuntimeWarning) # Show some warnings\n",
    "\n",
    "import pandas as pd\n",
    "import numpy as np\n",
    "import matplotlib.pyplot as plt\n",
    "from IPython.display import display, HTML"
   ]
  },
  {
   "cell_type": "code",
   "execution_count": 2,
   "metadata": {},
   "outputs": [
    {
     "data": {
      "application/javascript": "// Disable auto-scrolling\nIPython.OutputArea.prototype._should_scroll = function(lines) {\n    return false;\n}\n",
      "text/plain": [
       "<IPython.core.display.Javascript object>"
      ]
     },
     "metadata": {},
     "output_type": "display_data"
    }
   ],
   "source": [
    "%%javascript\n",
    "// Disable auto-scrolling\n",
    "IPython.OutputArea.prototype._should_scroll = function(lines) {\n",
    "    return false;\n",
    "}"
   ]
  },
  {
   "cell_type": "code",
   "execution_count": null,
   "metadata": {},
   "outputs": [],
   "source": [
    "%%R\n",
    "\n",
    "# My commonly used R imports\n",
    "\n",
    "require('tidyverse')\n"
   ]
  },
  {
   "cell_type": "markdown",
   "metadata": {},
   "source": [
    "\n",
    "# The Data\n",
    "\n",
    "For this repository, we'll be working with FiveThirtyEight's Pollster Ratings database. First, watch these primer videos that will help you better understand public opinion polling, and the pollster ratings data in particular:\n",
    "\n",
    "- https://www.youtube.com/watch?v=TambSayfCOE\n",
    "- https://www.youtube.com/watch?v=fzzX9jHDK4k\n",
    "\n",
    "While FiveThirtyEight publishes [pollster ratings](https://projects.fivethirtyeight.com/pollster-ratings/), I ask that you do not consult those as you do this assignment. I also ask that you not do outside reading about the reputation of individual pollsters. This assignment is an exercise in discovering insights about this dataset. When we debrief, we will look into the kinds of insights that journalists have been able to produce and see.\n",
    "\n",
    "I have pulled the underlying data into a file called `raw-polls.csv` which you will find in this repository. It contain polls from the final 21 days of Presidential, Senate, and Gubernatorial elections. \n",
    "\n",
    "Let's start by looking at presidential elections only:"
   ]
  },
  {
   "cell_type": "code",
   "execution_count": 4,
   "metadata": {},
   "outputs": [
    {
     "data": {
      "text/html": [
       "<div>\n",
       "<style scoped>\n",
       "    .dataframe tbody tr th:only-of-type {\n",
       "        vertical-align: middle;\n",
       "    }\n",
       "\n",
       "    .dataframe tbody tr th {\n",
       "        vertical-align: top;\n",
       "    }\n",
       "\n",
       "    .dataframe thead th {\n",
       "        text-align: right;\n",
       "    }\n",
       "</style>\n",
       "<table border=\"1\" class=\"dataframe\">\n",
       "  <thead>\n",
       "    <tr style=\"text-align: right;\">\n",
       "      <th></th>\n",
       "      <th>poll_id</th>\n",
       "      <th>question_id</th>\n",
       "      <th>race_id</th>\n",
       "      <th>year</th>\n",
       "      <th>race</th>\n",
       "      <th>location</th>\n",
       "      <th>type_simple</th>\n",
       "      <th>type_detail</th>\n",
       "      <th>pollster</th>\n",
       "      <th>pollster_rating_id</th>\n",
       "      <th>...</th>\n",
       "      <th>cand2_pct</th>\n",
       "      <th>cand3_pct</th>\n",
       "      <th>margin_poll</th>\n",
       "      <th>electiondate</th>\n",
       "      <th>cand1_actual</th>\n",
       "      <th>cand2_actual</th>\n",
       "      <th>margin_actual</th>\n",
       "      <th>bias</th>\n",
       "      <th>rightcall</th>\n",
       "      <th>comment</th>\n",
       "    </tr>\n",
       "  </thead>\n",
       "  <tbody>\n",
       "    <tr>\n",
       "      <th>470</th>\n",
       "      <td>6478</td>\n",
       "      <td>7947</td>\n",
       "      <td>40</td>\n",
       "      <td>2000</td>\n",
       "      <td>2000_Pres-G_US</td>\n",
       "      <td>US</td>\n",
       "      <td>Pres-G</td>\n",
       "      <td>Pres-G</td>\n",
       "      <td>Zogby Interactive/JZ Analytics</td>\n",
       "      <td>395</td>\n",
       "      <td>...</td>\n",
       "      <td>44.0</td>\n",
       "      <td>5.0</td>\n",
       "      <td>-1.0</td>\n",
       "      <td>11/7/00</td>\n",
       "      <td>48.31</td>\n",
       "      <td>47.79</td>\n",
       "      <td>0.51</td>\n",
       "      <td>-1.51</td>\n",
       "      <td>0.0</td>\n",
       "      <td>for Reuters | MSNBC</td>\n",
       "    </tr>\n",
       "    <tr>\n",
       "      <th>471</th>\n",
       "      <td>6483</td>\n",
       "      <td>7952</td>\n",
       "      <td>815</td>\n",
       "      <td>2000</td>\n",
       "      <td>2000_Pres-G_FL</td>\n",
       "      <td>FL</td>\n",
       "      <td>Pres-G</td>\n",
       "      <td>Pres-G</td>\n",
       "      <td>McLaughlin &amp; Associates</td>\n",
       "      <td>203</td>\n",
       "      <td>...</td>\n",
       "      <td>44.0</td>\n",
       "      <td>3.0</td>\n",
       "      <td>-1.0</td>\n",
       "      <td>11/7/00</td>\n",
       "      <td>48.84</td>\n",
       "      <td>48.85</td>\n",
       "      <td>-0.01</td>\n",
       "      <td>-0.99</td>\n",
       "      <td>1.0</td>\n",
       "      <td>for Bill McCollum</td>\n",
       "    </tr>\n",
       "    <tr>\n",
       "      <th>472</th>\n",
       "      <td>6470</td>\n",
       "      <td>7939</td>\n",
       "      <td>820</td>\n",
       "      <td>2000</td>\n",
       "      <td>2000_Pres-G_IL</td>\n",
       "      <td>IL</td>\n",
       "      <td>Pres-G</td>\n",
       "      <td>Pres-G</td>\n",
       "      <td>KRC Research</td>\n",
       "      <td>160</td>\n",
       "      <td>...</td>\n",
       "      <td>43.0</td>\n",
       "      <td>4.0</td>\n",
       "      <td>2.0</td>\n",
       "      <td>11/7/00</td>\n",
       "      <td>54.60</td>\n",
       "      <td>42.58</td>\n",
       "      <td>12.01</td>\n",
       "      <td>-10.01</td>\n",
       "      <td>1.0</td>\n",
       "      <td>NaN</td>\n",
       "    </tr>\n",
       "    <tr>\n",
       "      <th>473</th>\n",
       "      <td>6473</td>\n",
       "      <td>7942</td>\n",
       "      <td>820</td>\n",
       "      <td>2000</td>\n",
       "      <td>2000_Pres-G_IL</td>\n",
       "      <td>IL</td>\n",
       "      <td>Pres-G</td>\n",
       "      <td>Pres-G</td>\n",
       "      <td>Research 2000</td>\n",
       "      <td>281</td>\n",
       "      <td>...</td>\n",
       "      <td>40.0</td>\n",
       "      <td>3.0</td>\n",
       "      <td>7.0</td>\n",
       "      <td>11/7/00</td>\n",
       "      <td>54.60</td>\n",
       "      <td>42.58</td>\n",
       "      <td>12.01</td>\n",
       "      <td>-5.01</td>\n",
       "      <td>1.0</td>\n",
       "      <td>NaN</td>\n",
       "    </tr>\n",
       "    <tr>\n",
       "      <th>474</th>\n",
       "      <td>6474</td>\n",
       "      <td>7943</td>\n",
       "      <td>836</td>\n",
       "      <td>2000</td>\n",
       "      <td>2000_Pres-G_NH</td>\n",
       "      <td>NH</td>\n",
       "      <td>Pres-G</td>\n",
       "      <td>Pres-G</td>\n",
       "      <td>Research 2000</td>\n",
       "      <td>281</td>\n",
       "      <td>...</td>\n",
       "      <td>41.0</td>\n",
       "      <td>1.0</td>\n",
       "      <td>3.0</td>\n",
       "      <td>11/7/00</td>\n",
       "      <td>46.80</td>\n",
       "      <td>48.07</td>\n",
       "      <td>-1.27</td>\n",
       "      <td>4.27</td>\n",
       "      <td>0.0</td>\n",
       "      <td>NaN</td>\n",
       "    </tr>\n",
       "  </tbody>\n",
       "</table>\n",
       "<p>5 rows × 31 columns</p>\n",
       "</div>"
      ],
      "text/plain": [
       "     poll_id  question_id  race_id  year            race location type_simple  \\\n",
       "470     6478         7947       40  2000  2000_Pres-G_US       US      Pres-G   \n",
       "471     6483         7952      815  2000  2000_Pres-G_FL       FL      Pres-G   \n",
       "472     6470         7939      820  2000  2000_Pres-G_IL       IL      Pres-G   \n",
       "473     6473         7942      820  2000  2000_Pres-G_IL       IL      Pres-G   \n",
       "474     6474         7943      836  2000  2000_Pres-G_NH       NH      Pres-G   \n",
       "\n",
       "    type_detail                        pollster  pollster_rating_id  ...  \\\n",
       "470      Pres-G  Zogby Interactive/JZ Analytics                 395  ...   \n",
       "471      Pres-G         McLaughlin & Associates                 203  ...   \n",
       "472      Pres-G                    KRC Research                 160  ...   \n",
       "473      Pres-G                   Research 2000                 281  ...   \n",
       "474      Pres-G                   Research 2000                 281  ...   \n",
       "\n",
       "    cand2_pct cand3_pct margin_poll  electiondate cand1_actual  cand2_actual  \\\n",
       "470      44.0       5.0        -1.0       11/7/00        48.31         47.79   \n",
       "471      44.0       3.0        -1.0       11/7/00        48.84         48.85   \n",
       "472      43.0       4.0         2.0       11/7/00        54.60         42.58   \n",
       "473      40.0       3.0         7.0       11/7/00        54.60         42.58   \n",
       "474      41.0       1.0         3.0       11/7/00        46.80         48.07   \n",
       "\n",
       "    margin_actual   bias rightcall              comment  \n",
       "470          0.51  -1.51       0.0  for Reuters | MSNBC  \n",
       "471         -0.01  -0.99       1.0    for Bill McCollum  \n",
       "472         12.01 -10.01       1.0                  NaN  \n",
       "473         12.01  -5.01       1.0                  NaN  \n",
       "474         -1.27   4.27       0.0                  NaN  \n",
       "\n",
       "[5 rows x 31 columns]"
      ]
     },
     "execution_count": 4,
     "metadata": {},
     "output_type": "execute_result"
    }
   ],
   "source": [
    "# EXAMPLE PYTHON CELL\n",
    "df = pd.read_csv('raw-polls.csv')\\\n",
    "    .query(\"type_simple=='Pres-G'\")\n",
    "df.head()"
   ]
  },
  {
   "cell_type": "code",
   "execution_count": null,
   "metadata": {},
   "outputs": [],
   "source": []
  },
  {
   "cell_type": "markdown",
   "metadata": {},
   "source": [
    "You can find documentation about the meanings of these columns here: \n",
    "https://github.com/fivethirtyeight/data/tree/master/pollster-ratings\n",
    "\n",
    "Please note that I have strategically removed some columns, so you won't find all of the columns in the original datasest here in this assignment.\n",
    "\n",
    "Here is how we can load that same data in R and filter down to just presidential polls (just as we did above in Python)."
   ]
  },
  {
   "cell_type": "code",
   "execution_count": 1,
   "metadata": {},
   "outputs": [
    {
     "name": "stderr",
     "output_type": "stream",
     "text": [
      "UsageError: Cell magic `%%R` not found.\n"
     ]
    }
   ],
   "source": [
    "%%R\n",
    "\n",
    "# EXAMPLE R CELL\n",
    "df <- read_csv('raw-polls.csv') %>% \n",
    "    filter(type_simple=='Pres-G')\n",
    "\n",
    "df"
   ]
  },
  {
   "cell_type": "markdown",
   "metadata": {},
   "source": [
    "Before we dive into exploratory data viz, make sure you understand what all the columns in the spreadsheet are. There is a data dictionary on FiveThirtyEight’s GitHub page for this dataset that you can reference. If there is something you don’t understand, try asking your classmates in the #algorithms23 Slack channel.\n",
    "\n",
    "Answer the questions below about the limitations and possibilities of what you can and cannot learn using this dataset."
   ]
  },
  {
   "cell_type": "markdown",
   "metadata": {},
   "source": [
    "## 👉 Possibilties and Limitations\n",
    "\n",
    "_Whenever you see the 👉 icon, that means you need to write an answer._\n",
    "\n",
    "👉 Questions about the accuracy of election polling in the U.S. that this dataset should allow me to answer (answer in bullet points below):\n",
    "- TKTKTK\n",
    "- TKTKTK\n",
    "- TKTKTK\n"
   ]
  },
  {
   "cell_type": "markdown",
   "metadata": {},
   "source": [
    "👉 Questions about the accuracy of election polling in the U.S. that I won’t be able to answer with this dataset alone (answer in bullet points below):\n",
    "\n",
    "- TKTKTK\n",
    "- TKTKTK\n",
    "- TKTKTK"
   ]
  },
  {
   "cell_type": "markdown",
   "metadata": {},
   "source": [
    "👉 Questions I have about this dataset. What don't you know about it that you'd like to in order to responsibly use this data to report on elections?\n",
    "- TKTKTK\n",
    "- TKTKTK\n",
    "- TKTKTK"
   ]
  }
 ],
 "metadata": {
  "kernelspec": {
   "display_name": "Python 3",
   "language": "python",
   "name": "python3"
  },
  "language_info": {
   "codemirror_mode": {
    "name": "ipython",
    "version": 3
   },
   "file_extension": ".py",
   "mimetype": "text/x-python",
   "name": "python",
   "nbconvert_exporter": "python",
   "pygments_lexer": "ipython3",
   "version": "3.11.0rc2"
  },
  "vscode": {
   "interpreter": {
    "hash": "65de3514c2093d7cf2865236cc502463c1679e0aae214bc84fb04981ce66d59a"
   }
  }
 },
 "nbformat": 4,
 "nbformat_minor": 4
}
