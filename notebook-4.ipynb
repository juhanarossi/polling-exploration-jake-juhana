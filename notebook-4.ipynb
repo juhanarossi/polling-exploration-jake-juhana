{
 "cells": [
  {
   "cell_type": "markdown",
   "metadata": {},
   "source": [
    "# Python and R"
   ]
  },
  {
   "cell_type": "code",
   "execution_count": 6,
   "metadata": {},
   "outputs": [
    {
     "name": "stdout",
     "output_type": "stream",
     "text": [
      "The rpy2.ipython extension is already loaded. To reload it, use:\n",
      "  %reload_ext rpy2.ipython\n",
      "The autoreload extension is already loaded. To reload it, use:\n",
      "  %reload_ext autoreload\n"
     ]
    }
   ],
   "source": [
    "%load_ext rpy2.ipython\n",
    "%load_ext autoreload\n",
    "%autoreload 2\n",
    "\n",
    "%matplotlib inline  \n",
    "from matplotlib import rcParams\n",
    "rcParams['figure.figsize'] = (16, 100)\n",
    "\n",
    "import warnings\n",
    "from rpy2.rinterface import RRuntimeWarning\n",
    "warnings.filterwarnings(\"ignore\") # Ignore all warnings\n",
    "# warnings.filterwarnings(\"ignore\", category=RRuntimeWarning) # Show some warnings\n",
    "\n",
    "import pandas as pd\n",
    "import numpy as np\n",
    "import matplotlib.pyplot as plt\n",
    "from IPython.display import display, HTML\n",
    "\n",
    "# show all columns on pandas dataframes\n",
    "pd.set_option('display.max_columns', None)\n"
   ]
  },
  {
   "cell_type": "code",
   "execution_count": 7,
   "metadata": {},
   "outputs": [
    {
     "data": {
      "application/javascript": "// Disable auto-scrolling\nIPython.OutputArea.prototype._should_scroll = function(lines) {\n    return false;\n}\n",
      "text/plain": [
       "<IPython.core.display.Javascript object>"
      ]
     },
     "metadata": {},
     "output_type": "display_data"
    }
   ],
   "source": [
    "%%javascript\n",
    "// Disable auto-scrolling\n",
    "IPython.OutputArea.prototype._should_scroll = function(lines) {\n",
    "    return false;\n",
    "}"
   ]
  },
  {
   "cell_type": "code",
   "execution_count": 3,
   "metadata": {},
   "outputs": [
    {
     "name": "stderr",
     "output_type": "stream",
     "text": [
      "R[write to console]: Loading required package: tidyverse\n",
      "\n"
     ]
    },
    {
     "name": "stdout",
     "output_type": "stream",
     "text": [
      "-- Attaching packages --------------------------------------- tidyverse 1.3.2 --\n",
      "v ggplot2 3.4.0      v purrr   1.0.1 \n",
      "v tibble  3.1.8      v dplyr   1.0.10\n",
      "v tidyr   1.2.1      v stringr 1.4.1 \n",
      "v readr   2.1.3      v forcats 0.5.2 \n",
      "-- Conflicts ------------------------------------------ tidyverse_conflicts() --\n",
      "x dplyr::filter() masks stats::filter()\n",
      "x dplyr::lag()    masks stats::lag()\n"
     ]
    }
   ],
   "source": [
    "%%R\n",
    "\n",
    "# My commonly used R imports\n",
    "\n",
    "require('tidyverse')\n"
   ]
  },
  {
   "cell_type": "markdown",
   "metadata": {},
   "source": [
    "\n",
    "# Read the data\n",
    "\n"
   ]
  },
  {
   "cell_type": "markdown",
   "metadata": {},
   "source": [
    "The cell below loads the data in python and filters down to presidential general election polls only:"
   ]
  },
  {
   "cell_type": "code",
   "execution_count": 8,
   "metadata": {},
   "outputs": [
    {
     "data": {
      "text/html": [
       "<div>\n",
       "<style scoped>\n",
       "    .dataframe tbody tr th:only-of-type {\n",
       "        vertical-align: middle;\n",
       "    }\n",
       "\n",
       "    .dataframe tbody tr th {\n",
       "        vertical-align: top;\n",
       "    }\n",
       "\n",
       "    .dataframe thead th {\n",
       "        text-align: right;\n",
       "    }\n",
       "</style>\n",
       "<table border=\"1\" class=\"dataframe\">\n",
       "  <thead>\n",
       "    <tr style=\"text-align: right;\">\n",
       "      <th></th>\n",
       "      <th>poll_id</th>\n",
       "      <th>question_id</th>\n",
       "      <th>race_id</th>\n",
       "      <th>year</th>\n",
       "      <th>race</th>\n",
       "      <th>location</th>\n",
       "      <th>type_simple</th>\n",
       "      <th>type_detail</th>\n",
       "      <th>pollster</th>\n",
       "      <th>pollster_rating_id</th>\n",
       "      <th>methodology</th>\n",
       "      <th>partisan</th>\n",
       "      <th>polldate</th>\n",
       "      <th>samplesize</th>\n",
       "      <th>cand1_name</th>\n",
       "      <th>cand1_id</th>\n",
       "      <th>cand1_party</th>\n",
       "      <th>cand1_pct</th>\n",
       "      <th>cand2_name</th>\n",
       "      <th>cand2_id</th>\n",
       "      <th>cand2_party</th>\n",
       "      <th>cand2_pct</th>\n",
       "      <th>cand3_pct</th>\n",
       "      <th>margin_poll</th>\n",
       "      <th>electiondate</th>\n",
       "      <th>cand1_actual</th>\n",
       "      <th>cand2_actual</th>\n",
       "      <th>margin_actual</th>\n",
       "      <th>bias</th>\n",
       "      <th>rightcall</th>\n",
       "      <th>comment</th>\n",
       "    </tr>\n",
       "  </thead>\n",
       "  <tbody>\n",
       "    <tr>\n",
       "      <th>470</th>\n",
       "      <td>6478</td>\n",
       "      <td>7947</td>\n",
       "      <td>40</td>\n",
       "      <td>2000</td>\n",
       "      <td>2000_Pres-G_US</td>\n",
       "      <td>US</td>\n",
       "      <td>Pres-G</td>\n",
       "      <td>Pres-G</td>\n",
       "      <td>Zogby Interactive/JZ Analytics</td>\n",
       "      <td>395</td>\n",
       "      <td>Live Phone</td>\n",
       "      <td>NaN</td>\n",
       "      <td>10/17/00</td>\n",
       "      <td>1200.0</td>\n",
       "      <td>Al Gore</td>\n",
       "      <td>222</td>\n",
       "      <td>DEM</td>\n",
       "      <td>43.0</td>\n",
       "      <td>George W. Bush</td>\n",
       "      <td>241</td>\n",
       "      <td>REP</td>\n",
       "      <td>44.0</td>\n",
       "      <td>5.0</td>\n",
       "      <td>-1.0</td>\n",
       "      <td>11/7/00</td>\n",
       "      <td>48.31</td>\n",
       "      <td>47.79</td>\n",
       "      <td>0.51</td>\n",
       "      <td>-1.51</td>\n",
       "      <td>0.0</td>\n",
       "      <td>for Reuters | MSNBC</td>\n",
       "    </tr>\n",
       "    <tr>\n",
       "      <th>471</th>\n",
       "      <td>6483</td>\n",
       "      <td>7952</td>\n",
       "      <td>815</td>\n",
       "      <td>2000</td>\n",
       "      <td>2000_Pres-G_FL</td>\n",
       "      <td>FL</td>\n",
       "      <td>Pres-G</td>\n",
       "      <td>Pres-G</td>\n",
       "      <td>McLaughlin &amp; Associates</td>\n",
       "      <td>203</td>\n",
       "      <td>Live Phone</td>\n",
       "      <td>R</td>\n",
       "      <td>10/17/00</td>\n",
       "      <td>600.0</td>\n",
       "      <td>Al Gore</td>\n",
       "      <td>222</td>\n",
       "      <td>DEM</td>\n",
       "      <td>43.0</td>\n",
       "      <td>George W. Bush</td>\n",
       "      <td>241</td>\n",
       "      <td>REP</td>\n",
       "      <td>44.0</td>\n",
       "      <td>3.0</td>\n",
       "      <td>-1.0</td>\n",
       "      <td>11/7/00</td>\n",
       "      <td>48.84</td>\n",
       "      <td>48.85</td>\n",
       "      <td>-0.01</td>\n",
       "      <td>-0.99</td>\n",
       "      <td>1.0</td>\n",
       "      <td>for Bill McCollum</td>\n",
       "    </tr>\n",
       "    <tr>\n",
       "      <th>472</th>\n",
       "      <td>6470</td>\n",
       "      <td>7939</td>\n",
       "      <td>820</td>\n",
       "      <td>2000</td>\n",
       "      <td>2000_Pres-G_IL</td>\n",
       "      <td>IL</td>\n",
       "      <td>Pres-G</td>\n",
       "      <td>Pres-G</td>\n",
       "      <td>KRC Research</td>\n",
       "      <td>160</td>\n",
       "      <td>Live Phone</td>\n",
       "      <td>NaN</td>\n",
       "      <td>10/17/00</td>\n",
       "      <td>600.0</td>\n",
       "      <td>Al Gore</td>\n",
       "      <td>222</td>\n",
       "      <td>DEM</td>\n",
       "      <td>45.0</td>\n",
       "      <td>George W. Bush</td>\n",
       "      <td>241</td>\n",
       "      <td>REP</td>\n",
       "      <td>43.0</td>\n",
       "      <td>4.0</td>\n",
       "      <td>2.0</td>\n",
       "      <td>11/7/00</td>\n",
       "      <td>54.60</td>\n",
       "      <td>42.58</td>\n",
       "      <td>12.01</td>\n",
       "      <td>-10.01</td>\n",
       "      <td>1.0</td>\n",
       "      <td>NaN</td>\n",
       "    </tr>\n",
       "    <tr>\n",
       "      <th>473</th>\n",
       "      <td>6473</td>\n",
       "      <td>7942</td>\n",
       "      <td>820</td>\n",
       "      <td>2000</td>\n",
       "      <td>2000_Pres-G_IL</td>\n",
       "      <td>IL</td>\n",
       "      <td>Pres-G</td>\n",
       "      <td>Pres-G</td>\n",
       "      <td>Research 2000</td>\n",
       "      <td>281</td>\n",
       "      <td>Live Phone</td>\n",
       "      <td>NaN</td>\n",
       "      <td>10/17/00</td>\n",
       "      <td>601.0</td>\n",
       "      <td>Al Gore</td>\n",
       "      <td>222</td>\n",
       "      <td>DEM</td>\n",
       "      <td>47.0</td>\n",
       "      <td>George W. Bush</td>\n",
       "      <td>241</td>\n",
       "      <td>REP</td>\n",
       "      <td>40.0</td>\n",
       "      <td>3.0</td>\n",
       "      <td>7.0</td>\n",
       "      <td>11/7/00</td>\n",
       "      <td>54.60</td>\n",
       "      <td>42.58</td>\n",
       "      <td>12.01</td>\n",
       "      <td>-5.01</td>\n",
       "      <td>1.0</td>\n",
       "      <td>NaN</td>\n",
       "    </tr>\n",
       "    <tr>\n",
       "      <th>474</th>\n",
       "      <td>6474</td>\n",
       "      <td>7943</td>\n",
       "      <td>836</td>\n",
       "      <td>2000</td>\n",
       "      <td>2000_Pres-G_NH</td>\n",
       "      <td>NH</td>\n",
       "      <td>Pres-G</td>\n",
       "      <td>Pres-G</td>\n",
       "      <td>Research 2000</td>\n",
       "      <td>281</td>\n",
       "      <td>Live Phone</td>\n",
       "      <td>NaN</td>\n",
       "      <td>10/17/00</td>\n",
       "      <td>603.0</td>\n",
       "      <td>Al Gore</td>\n",
       "      <td>222</td>\n",
       "      <td>DEM</td>\n",
       "      <td>44.0</td>\n",
       "      <td>George W. Bush</td>\n",
       "      <td>241</td>\n",
       "      <td>REP</td>\n",
       "      <td>41.0</td>\n",
       "      <td>1.0</td>\n",
       "      <td>3.0</td>\n",
       "      <td>11/7/00</td>\n",
       "      <td>46.80</td>\n",
       "      <td>48.07</td>\n",
       "      <td>-1.27</td>\n",
       "      <td>4.27</td>\n",
       "      <td>0.0</td>\n",
       "      <td>NaN</td>\n",
       "    </tr>\n",
       "  </tbody>\n",
       "</table>\n",
       "</div>"
      ],
      "text/plain": [
       "     poll_id  question_id  race_id  year            race location type_simple  \\\n",
       "470     6478         7947       40  2000  2000_Pres-G_US       US      Pres-G   \n",
       "471     6483         7952      815  2000  2000_Pres-G_FL       FL      Pres-G   \n",
       "472     6470         7939      820  2000  2000_Pres-G_IL       IL      Pres-G   \n",
       "473     6473         7942      820  2000  2000_Pres-G_IL       IL      Pres-G   \n",
       "474     6474         7943      836  2000  2000_Pres-G_NH       NH      Pres-G   \n",
       "\n",
       "    type_detail                        pollster  pollster_rating_id  \\\n",
       "470      Pres-G  Zogby Interactive/JZ Analytics                 395   \n",
       "471      Pres-G         McLaughlin & Associates                 203   \n",
       "472      Pres-G                    KRC Research                 160   \n",
       "473      Pres-G                   Research 2000                 281   \n",
       "474      Pres-G                   Research 2000                 281   \n",
       "\n",
       "    methodology partisan  polldate  samplesize cand1_name  cand1_id  \\\n",
       "470  Live Phone      NaN  10/17/00      1200.0    Al Gore       222   \n",
       "471  Live Phone        R  10/17/00       600.0    Al Gore       222   \n",
       "472  Live Phone      NaN  10/17/00       600.0    Al Gore       222   \n",
       "473  Live Phone      NaN  10/17/00       601.0    Al Gore       222   \n",
       "474  Live Phone      NaN  10/17/00       603.0    Al Gore       222   \n",
       "\n",
       "    cand1_party  cand1_pct      cand2_name  cand2_id cand2_party  cand2_pct  \\\n",
       "470         DEM       43.0  George W. Bush       241         REP       44.0   \n",
       "471         DEM       43.0  George W. Bush       241         REP       44.0   \n",
       "472         DEM       45.0  George W. Bush       241         REP       43.0   \n",
       "473         DEM       47.0  George W. Bush       241         REP       40.0   \n",
       "474         DEM       44.0  George W. Bush       241         REP       41.0   \n",
       "\n",
       "     cand3_pct  margin_poll electiondate  cand1_actual  cand2_actual  \\\n",
       "470        5.0         -1.0      11/7/00         48.31         47.79   \n",
       "471        3.0         -1.0      11/7/00         48.84         48.85   \n",
       "472        4.0          2.0      11/7/00         54.60         42.58   \n",
       "473        3.0          7.0      11/7/00         54.60         42.58   \n",
       "474        1.0          3.0      11/7/00         46.80         48.07   \n",
       "\n",
       "     margin_actual   bias  rightcall              comment  \n",
       "470           0.51  -1.51        0.0  for Reuters | MSNBC  \n",
       "471          -0.01  -0.99        1.0    for Bill McCollum  \n",
       "472          12.01 -10.01        1.0                  NaN  \n",
       "473          12.01  -5.01        1.0                  NaN  \n",
       "474          -1.27   4.27        0.0                  NaN  "
      ]
     },
     "execution_count": 8,
     "metadata": {},
     "output_type": "execute_result"
    }
   ],
   "source": [
    "\n",
    "df = pd.read_csv('raw-polls.csv')\\\n",
    "    .query(\"type_simple=='Pres-G'\")\n",
    "df.head()"
   ]
  },
  {
   "cell_type": "markdown",
   "metadata": {},
   "source": [
    "The cell below loads the same data in R and applies the same filter:"
   ]
  },
  {
   "cell_type": "code",
   "execution_count": 9,
   "metadata": {},
   "outputs": [
    {
     "name": "stdout",
     "output_type": "stream",
     "text": [
      "Rows: 10776 Columns: 31\n",
      "-- Column specification --------------------------------------------------------\n",
      "Delimiter: \",\"\n",
      "chr (14): race, location, type_simple, type_detail, pollster, methodology, p...\n",
      "dbl (17): poll_id, question_id, race_id, year, pollster_rating_id, samplesiz...\n",
      "\n",
      "i Use `spec()` to retrieve the full column specification for this data.\n",
      "i Specify the column types or set `show_col_types = FALSE` to quiet this message.\n",
      "# A tibble: 2,940 x 31\n",
      "   poll_id questio~1 race_id  year race  locat~2 type_~3 type_~4 polls~5 polls~6\n",
      "     <dbl>     <dbl>   <dbl> <dbl> <chr> <chr>   <chr>   <chr>   <chr>     <dbl>\n",
      " 1    6478      7947      40  2000 2000~ US      Pres-G  Pres-G  Zogby ~     395\n",
      " 2    6483      7952     815  2000 2000~ FL      Pres-G  Pres-G  McLaug~     203\n",
      " 3    6470      7939     820  2000 2000~ IL      Pres-G  Pres-G  KRC Re~     160\n",
      " 4    6473      7942     820  2000 2000~ IL      Pres-G  Pres-G  Resear~     281\n",
      " 5    6474      7943     836  2000 2000~ NH      Pres-G  Pres-G  Resear~     281\n",
      " 6    6472      7941     844  2000 2000~ PA      Pres-G  Pres-G  Lincol~     170\n",
      " 7    6459    123272      40  2000 2000~ US      Pres-G  Pres-G  NBC Ne~     221\n",
      " 8   63601    117065      40  2000 2000~ US      Pres-G  Pres-G  Rasmus~     277\n",
      " 9    6479      7948     807  2000 2000~ AL      Pres-G  Pres-G  Univer~     361\n",
      "10   25719      7940     828  2000 2000~ MI      Pres-G  Pres-G  EPIC-M~      84\n",
      "# ... with 2,930 more rows, 21 more variables: methodology <chr>,\n",
      "#   partisan <chr>, polldate <chr>, samplesize <dbl>, cand1_name <chr>,\n",
      "#   cand1_id <dbl>, cand1_party <chr>, cand1_pct <dbl>, cand2_name <chr>,\n",
      "#   cand2_id <dbl>, cand2_party <chr>, cand2_pct <dbl>, cand3_pct <dbl>,\n",
      "#   margin_poll <dbl>, electiondate <chr>, cand1_actual <dbl>,\n",
      "#   cand2_actual <dbl>, margin_actual <dbl>, bias <dbl>, rightcall <dbl>,\n",
      "#   comment <chr>, and abbreviated variable names 1: question_id, ...\n",
      "# i Use `print(n = ...)` to see more rows, and `colnames()` to see all variable names\n"
     ]
    }
   ],
   "source": [
    "%%R\n",
    "\n",
    "df <- read_csv('raw-polls.csv') %>%\n",
    "    filter(type_simple == 'Pres-G')\n",
    "df"
   ]
  },
  {
   "cell_type": "markdown",
   "metadata": {},
   "source": [
    "# Example Charts\n",
    "\n",
    "Here are some very basic charts to get you started at looking at how far off these polls have been relative to the actual results of elections (`bias` variable). You will probably need to modify them significantly to get anything meaningful out of your exploratory dataviz. Think about which variables you might need to facet on the histogram (or what you might want to set the y axis to on the dotplot). \n",
    "\n",
    "note: This section is just example charts. You don't have to do anything here, just leave these charts as a starting point for you to copy/paste later. Scroll to the next section to get down to work!\n"
   ]
  },
  {
   "cell_type": "code",
   "execution_count": 11,
   "metadata": {},
   "outputs": [
    {
     "name": "stdout",
     "output_type": "stream",
     "text": [
      "`stat_bin()` using `bins = 30`. Pick better value with `binwidth`.\n"
     ]
    },
    {
     "data": {
      "image/png": "[encoded data removed]"
     },
     "metadata": {},
     "output_type": "display_data"
    }
   ],
   "source": [
    "%%R\n",
    "\n",
    "ggplot(df) +\n",
    "    geom_histogram(aes(x=bias)) +\n",
    "    geom_vline(aes(xintercept=0), color='red') +\n",
    "    labs(\n",
    "        title='Inaccuracy of polls in presidential elections',\n",
    "        subtitle=\"positive numbers = polls overestimated DEM support\\nnegative numbers= polls overestimated GOP support\",\n",
    "        )"
   ]
  },
  {
   "cell_type": "code",
   "execution_count": 6,
   "metadata": {},
   "outputs": [
    {
     "name": "stdout",
     "output_type": "stream",
     "text": [
      "`stat_bin()` using `bins = 30`. Pick better value with `binwidth`.\n"
     ]
    },
    {
     "data": {
      "image/png": "[encoded data removed]"
     },
     "metadata": {},
     "output_type": "display_data"
    }
   ],
   "source": [
    "%%R \n",
    "\n",
    "ggplot(df) +\n",
    "    geom_histogram(aes(x=bias)) +\n",
    "    geom_vline(aes(xintercept=0), color='red') +\n",
    "    labs(\n",
    "        title='Inaccuracy of polls in presidential elections',\n",
    "        subtitle=\"positive numbers = polls overestimated DEM support\\nnegative numbers= polls overestimated GOP support\",\n",
    "        )\n"
   ]
  },
  {
   "cell_type": "code",
   "execution_count": 17,
   "metadata": {},
   "outputs": [
    {
     "data": {
      "image/png": "[encoded data removed]"
     },
     "metadata": {},
     "output_type": "display_data"
    }
   ],
   "source": [
    "%%R \n",
    "\n",
    "ggplot(df) +\n",
    "    aes(x=bias, y=1) + \n",
    "    geom_point() "
   ]
  },
  {
   "cell_type": "code",
   "execution_count": 18,
   "metadata": {},
   "outputs": [
    {
     "name": "stdout",
     "output_type": "stream",
     "text": [
      " [1] \"poll_id\"            \"question_id\"        \"race_id\"           \n",
      " [4] \"year\"               \"race\"               \"location\"          \n",
      " [7] \"type_simple\"        \"type_detail\"        \"pollster\"          \n",
      "[10] \"pollster_rating_id\" \"methodology\"        \"partisan\"          \n",
      "[13] \"polldate\"           \"samplesize\"         \"cand1_name\"        \n",
      "[16] \"cand1_id\"           \"cand1_party\"        \"cand1_pct\"         \n",
      "[19] \"cand2_name\"         \"cand2_id\"           \"cand2_party\"       \n",
      "[22] \"cand2_pct\"          \"cand3_pct\"          \"margin_poll\"       \n",
      "[25] \"electiondate\"       \"cand1_actual\"       \"cand2_actual\"      \n",
      "[28] \"margin_actual\"      \"bias\"               \"rightcall\"         \n",
      "[31] \"comment\"           \n"
     ]
    }
   ],
   "source": [
    "%%R\n",
    "\n",
    "dfcolnames <- colnames(df)\n",
    "dfcolnames"
   ]
  },
  {
   "cell_type": "markdown",
   "metadata": {},
   "source": [
    "# Exploratory Data Visualization\n",
    "\n",
    "In this section you'll make a few charts to explore the data. For each chart, write a short explanation of what you think you can and cannot conclude from the chart."
   ]
  },
  {
   "attachments": {},
   "cell_type": "markdown",
   "metadata": {},
   "source": [
    "## I couldn't really get hang of what I should try to plot, but I put together some plots based on stuff we've done before."
   ]
  },
  {
   "cell_type": "markdown",
   "metadata": {},
   "source": [
    "### Exploratory chart 1"
   ]
  },
  {
   "cell_type": "code",
   "execution_count": 13,
   "metadata": {},
   "outputs": [
    {
     "data": {
      "image/png": "[encoded data removed]"
     },
     "metadata": {},
     "output_type": "display_data"
    }
   ],
   "source": [
    "%%R\n",
    "\n",
    "ggplot(df) +\n",
    "    aes(x=bias, y=factor(year), color=bias>0, alpha=.05) +\n",
    "    geom_point() +\n",
    "    geom_vline(aes(xintercept=0), color='red')  +\n",
    "    labs(\n",
    "        title='Inaccuracy of polls in presidential elections',\n",
    "        subtitle=\"positive numbers = polls overestimated DEM support\\nnegative numbers= polls overestimated GOP support\"\n",
    "    ) +  \n",
    "    theme(legend.position=\"none\") +\n",
    "    scale_y_discrete(name=\"Year\")\n"
   ]
  },
  {
   "attachments": {},
   "cell_type": "markdown",
   "metadata": {},
   "source": [
    "👉 Summary\n",
    "\n",
    "##### It appears that in some presidential election years the polls are biased more pronouncedly for the Republican candidate, while in other years the polls are biased more pronouncedly toward the Democratic candidate.\n",
    "👉 Reflection\n",
    "\n",
    "What I can conclude based on this chart:\n",
    "* In 2004 the polls margins were less off the in many other years, and there were hardly any outliers.\n",
    "* \n",
    "\n",
    "What I can't conclude based on this chart:\n",
    "* How accurate are the pollsters in general.\n",
    "* TKTK\n",
    "* TKTK\n",
    "\n"
   ]
  },
  {
   "cell_type": "markdown",
   "metadata": {},
   "source": [
    "### Exploratory chart 2"
   ]
  },
  {
   "cell_type": "code",
   "execution_count": 14,
   "metadata": {},
   "outputs": [
    {
     "data": {
      "image/png": "[encoded data removed]"
     },
     "metadata": {},
     "output_type": "display_data"
    }
   ],
   "source": [
    "%%R\n",
    "\n",
    "ggplot(df) +\n",
    "    aes(x=bias, y=factor(year), color=bias>0, alpha=.05) +\n",
    "    geom_boxplot() +\n",
    "    geom_vline(aes(xintercept=0), color='red')  +\n",
    "    labs(\n",
    "        title='Inaccuracy of polls in presidential elections',\n",
    "        subtitle=\"positive numbers = polls overestimated DEM support\\nnegative numbers= polls overestimated GOP support\"\n",
    "    ) +  \n",
    "    theme(legend.position=\"none\") +\n",
    "    scale_y_discrete(name=\"Year\")\n"
   ]
  },
  {
   "attachments": {},
   "cell_type": "markdown",
   "metadata": {},
   "source": [
    "👉 Summary\n",
    "\n",
    "Half of the polls who overestimated the demoractic victory in 2012 elections showed much smaller bias in their margin of error that polls who overestimated the democratice victory in 2016 elections.\n",
    "\n",
    "👉 Reflection\n",
    "\n",
    "What I can conclude based on this chart:\n",
    "* In some elections the polls concenrated more closely inside a narrower margin of error.\n",
    "\n",
    "\n",
    "What I can't conclude based on this chart:\n",
    "* Which candidate won the election or which polls predict the winner.\n",
    "\n"
   ]
  },
  {
   "cell_type": "markdown",
   "metadata": {},
   "source": [
    "### Exploratory chart 3"
   ]
  },
  {
   "cell_type": "code",
   "execution_count": 38,
   "metadata": {},
   "outputs": [
    {
     "name": "stdout",
     "output_type": "stream",
     "text": [
      "`stat_bin()` using `bins = 30`. Pick better value with `binwidth`.\n"
     ]
    },
    {
     "data": {
      "image/png": "[encoded data removed]"
     },
     "metadata": {},
     "output_type": "display_data"
    }
   ],
   "source": [
    "%%R\n",
    "\n",
    "ggplot(df) +\n",
    "    geom_histogram(aes(x=bias, binwidth = 10, color='black', fill='white')) +\n",
    "    facet_wrap(~year) +\n",
    "    geom_vline(aes(xintercept=0), color='red')  \n",
    "    #labs(\n",
    "        #title='Inaccuracy of polls in presidential elections',\n",
    "        #subtitle=\"positive numbers = polls overestimated DEM support\\nnegative numbers= polls overestimated GOP support\"\n",
    "    #) +  \n",
    "    #theme(legend.position=\"none\") +\n",
    "    #scale_y_discrete(name=\"Year\")\n",
    "\n"
   ]
  },
  {
   "attachments": {},
   "cell_type": "markdown",
   "metadata": {},
   "source": [
    "👉 Summary\n",
    "\n",
    "In 2004 and 2008 the polls were evenly distributed, with the largest bin straddling zero. In 2012 most polls underestimated democratic victory and in 2020 most polls underestimated the republican victory.\n",
    "\n",
    "👉 Reflection\n",
    "\n",
    "What I can conclude based on this chart:\n",
    "* Polls can be biased, but in some elections they can be evenly distributed.\n",
    "\n",
    "\n",
    "What I can't conclude based on this chart:\n",
    "* How accurate are the pollsters in general or who won the election.\n",
    "\n"
   ]
  },
  {
   "cell_type": "markdown",
   "metadata": {},
   "source": [
    "# New Questions\n",
    "\n",
    "Good exploratory viz generates some answers, but usually lots of new questions. \n",
    "What new questions do you have now that you've had a chance to do some exploration with the data?\n",
    "\n",
    "👉"
   ]
  },
  {
   "attachments": {},
   "cell_type": "markdown",
   "metadata": {},
   "source": [
    "I am still trying to learn basics both in using the tools and what exploratory visualization is. But a general question: what is the first avenue of inquiry? what should I do first?"
   ]
  }
 ],
 "metadata": {
  "kernelspec": {
   "display_name": "Python 3",
   "language": "python",
   "name": "python3"
  },
  "language_info": {
   "codemirror_mode": {
    "name": "ipython",
    "version": 3
   },
   "file_extension": ".py",
   "mimetype": "text/x-python",
   "name": "python",
   "nbconvert_exporter": "python",
   "pygments_lexer": "ipython3",
   "version": "3.11.0rc2"
  },
  "vscode": {
   "interpreter": {
    "hash": "65de3514c2093d7cf2865236cc502463c1679e0aae214bc84fb04981ce66d59a"
   }
  }
 },
 "nbformat": 4,
 "nbformat_minor": 4
}
